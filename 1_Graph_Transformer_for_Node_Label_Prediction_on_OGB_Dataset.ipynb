{
  "nbformat": 4,
  "nbformat_minor": 0,
  "metadata": {
    "colab": {
      "provenance": [],
      "gpuType": "T4"
    },
    "kernelspec": {
      "name": "python3",
      "display_name": "Python 3"
    },
    "language_info": {
      "name": "python"
    },
    "accelerator": "GPU"
  },
  "cells": [
    {
      "cell_type": "markdown",
      "source": [
        "#0. Imports"
      ],
      "metadata": {
        "id": "Nh-yTSCjxM9Q"
      }
    },
    {
      "cell_type": "code",
      "execution_count": null,
      "metadata": {
        "colab": {
          "base_uri": "https://localhost:8080/"
        },
        "id": "B48BKVo5bsEy",
        "outputId": "6410188a-7605-4d04-a0ba-a5479e4688db"
      },
      "outputs": [
        {
          "output_type": "stream",
          "name": "stdout",
          "text": [
            "Requirement already satisfied: torch-geometric in /usr/local/lib/python3.10/dist-packages (2.6.1)\n",
            "Requirement already satisfied: aiohttp in /usr/local/lib/python3.10/dist-packages (from torch-geometric) (3.10.10)\n",
            "Requirement already satisfied: fsspec in /usr/local/lib/python3.10/dist-packages (from torch-geometric) (2024.10.0)\n",
            "Requirement already satisfied: jinja2 in /usr/local/lib/python3.10/dist-packages (from torch-geometric) (3.1.4)\n",
            "Requirement already satisfied: numpy in /usr/local/lib/python3.10/dist-packages (from torch-geometric) (1.26.4)\n",
            "Requirement already satisfied: psutil>=5.8.0 in /usr/local/lib/python3.10/dist-packages (from torch-geometric) (5.9.5)\n",
            "Requirement already satisfied: pyparsing in /usr/local/lib/python3.10/dist-packages (from torch-geometric) (3.2.0)\n",
            "Requirement already satisfied: requests in /usr/local/lib/python3.10/dist-packages (from torch-geometric) (2.32.3)\n",
            "Requirement already satisfied: tqdm in /usr/local/lib/python3.10/dist-packages (from torch-geometric) (4.66.6)\n",
            "Requirement already satisfied: aiohappyeyeballs>=2.3.0 in /usr/local/lib/python3.10/dist-packages (from aiohttp->torch-geometric) (2.4.3)\n",
            "Requirement already satisfied: aiosignal>=1.1.2 in /usr/local/lib/python3.10/dist-packages (from aiohttp->torch-geometric) (1.3.1)\n",
            "Requirement already satisfied: attrs>=17.3.0 in /usr/local/lib/python3.10/dist-packages (from aiohttp->torch-geometric) (24.2.0)\n",
            "Requirement already satisfied: frozenlist>=1.1.1 in /usr/local/lib/python3.10/dist-packages (from aiohttp->torch-geometric) (1.5.0)\n",
            "Requirement already satisfied: multidict<7.0,>=4.5 in /usr/local/lib/python3.10/dist-packages (from aiohttp->torch-geometric) (6.1.0)\n",
            "Requirement already satisfied: yarl<2.0,>=1.12.0 in /usr/local/lib/python3.10/dist-packages (from aiohttp->torch-geometric) (1.17.1)\n",
            "Requirement already satisfied: async-timeout<5.0,>=4.0 in /usr/local/lib/python3.10/dist-packages (from aiohttp->torch-geometric) (4.0.3)\n",
            "Requirement already satisfied: MarkupSafe>=2.0 in /usr/local/lib/python3.10/dist-packages (from jinja2->torch-geometric) (3.0.2)\n",
            "Requirement already satisfied: charset-normalizer<4,>=2 in /usr/local/lib/python3.10/dist-packages (from requests->torch-geometric) (3.4.0)\n",
            "Requirement already satisfied: idna<4,>=2.5 in /usr/local/lib/python3.10/dist-packages (from requests->torch-geometric) (3.10)\n",
            "Requirement already satisfied: urllib3<3,>=1.21.1 in /usr/local/lib/python3.10/dist-packages (from requests->torch-geometric) (2.2.3)\n",
            "Requirement already satisfied: certifi>=2017.4.17 in /usr/local/lib/python3.10/dist-packages (from requests->torch-geometric) (2024.8.30)\n",
            "Requirement already satisfied: typing-extensions>=4.1.0 in /usr/local/lib/python3.10/dist-packages (from multidict<7.0,>=4.5->aiohttp->torch-geometric) (4.12.2)\n",
            "Requirement already satisfied: propcache>=0.2.0 in /usr/local/lib/python3.10/dist-packages (from yarl<2.0,>=1.12.0->aiohttp->torch-geometric) (0.2.0)\n"
          ]
        }
      ],
      "source": [
        "!pip install torch-geometric"
      ]
    },
    {
      "cell_type": "code",
      "source": [
        "!pip install ogb"
      ],
      "metadata": {
        "colab": {
          "base_uri": "https://localhost:8080/"
        },
        "id": "vm-zbQjYcrgW",
        "outputId": "b1ff929f-cfc1-4ef2-be20-6cb4c9f7fc5b"
      },
      "execution_count": null,
      "outputs": [
        {
          "output_type": "stream",
          "name": "stdout",
          "text": [
            "Requirement already satisfied: ogb in /usr/local/lib/python3.10/dist-packages (1.3.6)\n",
            "Requirement already satisfied: torch>=1.6.0 in /usr/local/lib/python3.10/dist-packages (from ogb) (2.5.0+cu121)\n",
            "Requirement already satisfied: numpy>=1.16.0 in /usr/local/lib/python3.10/dist-packages (from ogb) (1.26.4)\n",
            "Requirement already satisfied: tqdm>=4.29.0 in /usr/local/lib/python3.10/dist-packages (from ogb) (4.66.6)\n",
            "Requirement already satisfied: scikit-learn>=0.20.0 in /usr/local/lib/python3.10/dist-packages (from ogb) (1.5.2)\n",
            "Requirement already satisfied: pandas>=0.24.0 in /usr/local/lib/python3.10/dist-packages (from ogb) (2.2.2)\n",
            "Requirement already satisfied: six>=1.12.0 in /usr/local/lib/python3.10/dist-packages (from ogb) (1.16.0)\n",
            "Requirement already satisfied: urllib3>=1.24.0 in /usr/local/lib/python3.10/dist-packages (from ogb) (2.2.3)\n",
            "Requirement already satisfied: outdated>=0.2.0 in /usr/local/lib/python3.10/dist-packages (from ogb) (0.2.2)\n",
            "Requirement already satisfied: setuptools>=44 in /usr/local/lib/python3.10/dist-packages (from outdated>=0.2.0->ogb) (75.1.0)\n",
            "Requirement already satisfied: littleutils in /usr/local/lib/python3.10/dist-packages (from outdated>=0.2.0->ogb) (0.2.4)\n",
            "Requirement already satisfied: requests in /usr/local/lib/python3.10/dist-packages (from outdated>=0.2.0->ogb) (2.32.3)\n",
            "Requirement already satisfied: python-dateutil>=2.8.2 in /usr/local/lib/python3.10/dist-packages (from pandas>=0.24.0->ogb) (2.8.2)\n",
            "Requirement already satisfied: pytz>=2020.1 in /usr/local/lib/python3.10/dist-packages (from pandas>=0.24.0->ogb) (2024.2)\n",
            "Requirement already satisfied: tzdata>=2022.7 in /usr/local/lib/python3.10/dist-packages (from pandas>=0.24.0->ogb) (2024.2)\n",
            "Requirement already satisfied: scipy>=1.6.0 in /usr/local/lib/python3.10/dist-packages (from scikit-learn>=0.20.0->ogb) (1.13.1)\n",
            "Requirement already satisfied: joblib>=1.2.0 in /usr/local/lib/python3.10/dist-packages (from scikit-learn>=0.20.0->ogb) (1.4.2)\n",
            "Requirement already satisfied: threadpoolctl>=3.1.0 in /usr/local/lib/python3.10/dist-packages (from scikit-learn>=0.20.0->ogb) (3.5.0)\n",
            "Requirement already satisfied: filelock in /usr/local/lib/python3.10/dist-packages (from torch>=1.6.0->ogb) (3.16.1)\n",
            "Requirement already satisfied: typing-extensions>=4.8.0 in /usr/local/lib/python3.10/dist-packages (from torch>=1.6.0->ogb) (4.12.2)\n",
            "Requirement already satisfied: networkx in /usr/local/lib/python3.10/dist-packages (from torch>=1.6.0->ogb) (3.4.2)\n",
            "Requirement already satisfied: jinja2 in /usr/local/lib/python3.10/dist-packages (from torch>=1.6.0->ogb) (3.1.4)\n",
            "Requirement already satisfied: fsspec in /usr/local/lib/python3.10/dist-packages (from torch>=1.6.0->ogb) (2024.10.0)\n",
            "Requirement already satisfied: sympy==1.13.1 in /usr/local/lib/python3.10/dist-packages (from torch>=1.6.0->ogb) (1.13.1)\n",
            "Requirement already satisfied: mpmath<1.4,>=1.1.0 in /usr/local/lib/python3.10/dist-packages (from sympy==1.13.1->torch>=1.6.0->ogb) (1.3.0)\n",
            "Requirement already satisfied: MarkupSafe>=2.0 in /usr/local/lib/python3.10/dist-packages (from jinja2->torch>=1.6.0->ogb) (3.0.2)\n",
            "Requirement already satisfied: charset-normalizer<4,>=2 in /usr/local/lib/python3.10/dist-packages (from requests->outdated>=0.2.0->ogb) (3.4.0)\n",
            "Requirement already satisfied: idna<4,>=2.5 in /usr/local/lib/python3.10/dist-packages (from requests->outdated>=0.2.0->ogb) (3.10)\n",
            "Requirement already satisfied: certifi>=2017.4.17 in /usr/local/lib/python3.10/dist-packages (from requests->outdated>=0.2.0->ogb) (2024.8.30)\n"
          ]
        }
      ]
    },
    {
      "cell_type": "code",
      "source": [
        "import torch\n",
        "import torch_geometric\n",
        "from ogb.nodeproppred import PygNodePropPredDataset\n",
        "import torch_geometric.transforms as T\n",
        "import torch.nn.functional as F\n",
        "import copy"
      ],
      "metadata": {
        "id": "3lVS8cltbxxq"
      },
      "execution_count": null,
      "outputs": []
    },
    {
      "cell_type": "code",
      "source": [
        "from torch_geometric.nn import TransformerConv"
      ],
      "metadata": {
        "id": "LZj38jBzd_az"
      },
      "execution_count": null,
      "outputs": []
    },
    {
      "cell_type": "markdown",
      "source": [
        "# 1. UniMP Model"
      ],
      "metadata": {
        "id": "XAPqM0_rhRoq"
      }
    },
    {
      "cell_type": "code",
      "source": [
        "class UniMP(torch.nn.Module):\n",
        "  def __init__(self, in_channels, hidden_channels, out_channels, num_layers, dropout, beta=True, heads=1):\n",
        "    super(UniMP, self).__init__()\n",
        "\n",
        "    self.num_layers = num_layers\n",
        "    self.dropout = dropout\n",
        "\n",
        "    conv_layers = [TransformerConv(in_channels, hidden_channels//heads, heads, beta=beta)]\n",
        "    conv_layers += [TransformerConv(hidden_channels, hidden_channels//heads, heads, beta=beta)]\n",
        "    conv_layers.append(TransformerConv(hidden_channels, out_channels, heads, concat=False, beta=beta))\n",
        "    self.convs = torch.nn.ModuleList(conv_layers)\n",
        "\n",
        "    norm_layers = [torch.nn.LayerNorm(hidden_channels) for _ in range(self.num_layers-1)]\n",
        "    self.norms = torch.nn.ModuleList(norm_layers)\n",
        "\n",
        "\n",
        "  def reset_parameters(self):\n",
        "    for conv in self.convs:\n",
        "      conv.reset_parameters()\n",
        "    for norm in self.norms:\n",
        "      norm.reset_parameters()\n",
        "\n",
        "  def forward(self, x, edge_index):\n",
        "    for i in range(self.num_layers-1):\n",
        "      x = self.convs[i](x, edge_index)\n",
        "      x = self.norms[i](x)\n",
        "      x = F.relu(x)\n",
        "      x = F.dropout(x, p=self.dropout, training=self.training)\n",
        "    x = self.convs[-1](x, edge_index)\n",
        "    return x"
      ],
      "metadata": {
        "id": "TP0Z3ESFd_Yl"
      },
      "execution_count": null,
      "outputs": []
    },
    {
      "cell_type": "markdown",
      "source": [
        "#2. Training and Evaluation functions"
      ],
      "metadata": {
        "id": "pedFkSJbd_WD"
      }
    },
    {
      "cell_type": "code",
      "source": [
        "def train(model, data, loss_fn, optimizer, train_idx):\n",
        "  model.train()\n",
        "\n",
        "  optimizer.zero_grad()\n",
        "  out = model(data.x, data.edge_index)\n",
        "  loss = loss_fn(out[train_idx], torch.flatten(data.y[train_idx]))\n",
        "  # loss = loss_fn(out[train_idx], data.y[train_idx])\n",
        "  loss.backward()\n",
        "  optimizer.step()\n",
        "\n",
        "  return loss.item()"
      ],
      "metadata": {
        "id": "--8U9Jj1hU4Z"
      },
      "execution_count": null,
      "outputs": []
    },
    {
      "cell_type": "code",
      "source": [
        "def test(model, data, split_idx):\n",
        "  with torch.inference_mode():\n",
        "    model.eval()\n",
        "\n",
        "    preds = model(data.x, data.edge_index)\n",
        "    preds_train = preds[split_idx['train']].argmax(dim=-1, keepdim=False)\n",
        "    train_acc = (preds_train == data.y[split_idx['train']]).sum() / preds_train.size(0)\n",
        "\n",
        "    preds_val = preds[split_idx['valid']].argmax(dim=-1, keepdim=False)\n",
        "    val_acc = (preds_val == data.y[split_idx['valid']]).sum() / preds_val.size(0)\n",
        "\n",
        "    preds_test = preds[split_idx['test']].argmax(dim=-1, keepdim=False)\n",
        "    test_acc = (preds_test == data.y[split_idx['test']]).sum() / preds_test.size(0)\n",
        "\n",
        "    return train_acc, val_acc, test_acc"
      ],
      "metadata": {
        "id": "yBMFGvlzhU2M"
      },
      "execution_count": null,
      "outputs": []
    },
    {
      "cell_type": "markdown",
      "source": [
        "#3. Dataset"
      ],
      "metadata": {
        "id": "N_PMHYX-hUz9"
      }
    },
    {
      "cell_type": "code",
      "source": [
        "dataset = PygNodePropPredDataset(name='ogbn-arxiv', root='.', transform=T.ToUndirected())\n",
        "dataset"
      ],
      "metadata": {
        "colab": {
          "base_uri": "https://localhost:8080/"
        },
        "id": "9zUC44_HcaYf",
        "outputId": "2b83b013-4da4-4e62-c472-7ecb71c18fd1"
      },
      "execution_count": null,
      "outputs": [
        {
          "output_type": "stream",
          "name": "stderr",
          "text": [
            "/usr/local/lib/python3.10/dist-packages/ogb/nodeproppred/dataset_pyg.py:69: FutureWarning: You are using `torch.load` with `weights_only=False` (the current default value), which uses the default pickle module implicitly. It is possible to construct malicious pickle data which will execute arbitrary code during unpickling (See https://github.com/pytorch/pytorch/blob/main/SECURITY.md#untrusted-models for more details). In a future release, the default value for `weights_only` will be flipped to `True`. This limits the functions that could be executed during unpickling. Arbitrary objects will no longer be allowed to be loaded via this mode unless they are explicitly allowlisted by the user via `torch.serialization.add_safe_globals`. We recommend you start setting `weights_only=True` for any use case where you don't have full control of the loaded file. Please open an issue on GitHub for any issues related to this experimental feature.\n",
            "  self.data, self.slices = torch.load(self.processed_paths[0])\n"
          ]
        },
        {
          "output_type": "execute_result",
          "data": {
            "text/plain": [
              "PygNodePropPredDataset()"
            ]
          },
          "metadata": {},
          "execution_count": 8
        }
      ]
    },
    {
      "cell_type": "code",
      "source": [
        "data = dataset[0]\n",
        "data"
      ],
      "metadata": {
        "colab": {
          "base_uri": "https://localhost:8080/"
        },
        "id": "pYxbAnPodHrV",
        "outputId": "8574a56b-cfda-47c2-f6fe-bb41a6015f07"
      },
      "execution_count": null,
      "outputs": [
        {
          "output_type": "execute_result",
          "data": {
            "text/plain": [
              "Data(num_nodes=169343, edge_index=[2, 2315598], x=[169343, 128], node_year=[169343, 1], y=[169343, 1])"
            ]
          },
          "metadata": {},
          "execution_count": 9
        }
      ]
    },
    {
      "cell_type": "code",
      "source": [
        "device = 'cuda' if torch.cuda.is_available() else 'cpu'\n",
        "device"
      ],
      "metadata": {
        "colab": {
          "base_uri": "https://localhost:8080/",
          "height": 36
        },
        "id": "bjdKUj4ldagz",
        "outputId": "1bec3ee6-acb5-47d4-8b3b-a4873a3e9ccb"
      },
      "execution_count": null,
      "outputs": [
        {
          "output_type": "execute_result",
          "data": {
            "text/plain": [
              "'cuda'"
            ],
            "application/vnd.google.colaboratory.intrinsic+json": {
              "type": "string"
            }
          },
          "metadata": {},
          "execution_count": 10
        }
      ]
    },
    {
      "cell_type": "code",
      "source": [
        "data.to(device)\n",
        "data.y = data.y.view(-1)\n",
        "split_idx = dataset.get_idx_split()\n",
        "train_split = split_idx['train'].to(device)"
      ],
      "metadata": {
        "id": "VC_2tQD8k4dV"
      },
      "execution_count": null,
      "outputs": []
    },
    {
      "cell_type": "markdown",
      "source": [
        "#4. Configs and Training"
      ],
      "metadata": {
        "id": "V9z6VeU5xVFU"
      }
    },
    {
      "cell_type": "code",
      "source": [
        "configs = {\n",
        "    'device': device,\n",
        "    'num_layers': 3,\n",
        "    'hidden_channels': 128,\n",
        "    'heads': 2,\n",
        "    'dropout': 0.3,\n",
        "    'lr': 0.001,\n",
        "    'epochs': 500,\n",
        "    'weight_decay': 0.0005,\n",
        "}\n",
        "\n",
        "model = UniMP(in_channels = data.num_features,\n",
        "              hidden_channels = configs['hidden_channels'],\n",
        "              out_channels = dataset.num_classes,\n",
        "              num_layers = configs['num_layers'],\n",
        "              dropout = configs['dropout'],\n",
        "              heads = configs['heads'],\n",
        "              ).to(device)\n",
        "\n",
        "model"
      ],
      "metadata": {
        "colab": {
          "base_uri": "https://localhost:8080/"
        },
        "id": "9d1VyV9xlHTn",
        "outputId": "caa92120-00c5-4550-add5-f22fae351a85"
      },
      "execution_count": null,
      "outputs": [
        {
          "output_type": "execute_result",
          "data": {
            "text/plain": [
              "UniMP(\n",
              "  (convs): ModuleList(\n",
              "    (0-1): 2 x TransformerConv(128, 64, heads=2)\n",
              "    (2): TransformerConv(128, 40, heads=2)\n",
              "  )\n",
              "  (norms): ModuleList(\n",
              "    (0-1): 2 x LayerNorm((128,), eps=1e-05, elementwise_affine=True)\n",
              "  )\n",
              ")"
            ]
          },
          "metadata": {},
          "execution_count": 12
        }
      ]
    },
    {
      "cell_type": "code",
      "source": [
        "model.reset_parameters()\n",
        "\n",
        "optimizer = torch.optim.Adam(params=model.parameters(), lr=configs['lr'], weight_decay=configs['weight_decay'])\n",
        "loss_fn = F.cross_entropy\n",
        "\n",
        "losses, train_accs, val_accs, test_accs = [], [], [], []\n",
        "best_model = None\n",
        "best_val_acc = 0\n",
        "\n",
        "for epoch in range(1, configs['epochs']+1):\n",
        "  loss = train(model, data, loss_fn, optimizer, train_split)\n",
        "  losses.append(loss)\n",
        "  train_acc, val_acc, test_acc = test(model, data, split_idx)\n",
        "  if val_acc > best_val_acc:\n",
        "    best_model = copy.deepcopy(model)\n",
        "    best_val_acc = val_acc\n",
        "  train_accs.append(train_acc)\n",
        "  val_accs.append(val_acc)\n",
        "  test_accs.append(test_acc)\n",
        "\n",
        "  if epoch%10==0:\n",
        "    print(f'Epoch: {epoch}, '\n",
        "          f'Loss: {loss:.4f}, '\n",
        "          f'Train: {100 * train_acc:.2f}%, '\n",
        "          f'Valid: {100 * val_acc:.2f}% '\n",
        "          f'Test: {100 * test_acc:.2f}%')"
      ],
      "metadata": {
        "colab": {
          "base_uri": "https://localhost:8080/"
        },
        "id": "YqcLFzn7mSz6",
        "outputId": "2c15cfb6-d448-4c3f-b22e-e953ae4220ab"
      },
      "execution_count": null,
      "outputs": [
        {
          "output_type": "stream",
          "name": "stdout",
          "text": [
            "Epoch: 10, Loss: 3.0851, Train: 28.17%, Valid: 30.24% Test: 27.09%\n",
            "Epoch: 20, Loss: 2.6229, Train: 36.99%, Valid: 38.92% Test: 37.59%\n",
            "Epoch: 30, Loss: 2.1630, Train: 48.62%, Valid: 51.61% Test: 50.55%\n",
            "Epoch: 40, Loss: 1.8085, Train: 56.81%, Valid: 59.01% Test: 58.46%\n",
            "Epoch: 50, Loss: 1.5717, Train: 61.35%, Valid: 62.90% Test: 62.60%\n",
            "Epoch: 60, Loss: 1.4218, Train: 63.61%, Valid: 65.10% Test: 64.62%\n",
            "Epoch: 70, Loss: 1.3251, Train: 65.47%, Valid: 66.01% Test: 65.24%\n",
            "Epoch: 80, Loss: 1.2589, Train: 66.89%, Valid: 67.13% Test: 66.36%\n",
            "Epoch: 90, Loss: 1.2124, Train: 67.94%, Valid: 67.90% Test: 66.74%\n",
            "Epoch: 100, Loss: 1.1807, Train: 68.76%, Valid: 68.62% Test: 67.26%\n",
            "Epoch: 110, Loss: 1.1544, Train: 69.32%, Valid: 69.14% Test: 68.00%\n",
            "Epoch: 120, Loss: 1.1313, Train: 69.89%, Valid: 69.53% Test: 68.14%\n",
            "Epoch: 130, Loss: 1.1166, Train: 70.28%, Valid: 69.89% Test: 68.68%\n",
            "Epoch: 140, Loss: 1.1037, Train: 70.62%, Valid: 69.92% Test: 68.66%\n",
            "Epoch: 150, Loss: 1.0881, Train: 70.89%, Valid: 69.94% Test: 68.61%\n",
            "Epoch: 160, Loss: 1.0769, Train: 71.17%, Valid: 70.13% Test: 68.96%\n",
            "Epoch: 170, Loss: 1.0663, Train: 71.45%, Valid: 70.46% Test: 69.47%\n",
            "Epoch: 180, Loss: 1.0558, Train: 71.64%, Valid: 70.56% Test: 69.61%\n",
            "Epoch: 190, Loss: 1.0478, Train: 71.87%, Valid: 70.72% Test: 69.75%\n",
            "Epoch: 200, Loss: 1.0420, Train: 72.08%, Valid: 70.84% Test: 70.06%\n",
            "Epoch: 210, Loss: 1.0322, Train: 72.22%, Valid: 70.76% Test: 69.78%\n",
            "Epoch: 220, Loss: 1.0287, Train: 72.37%, Valid: 70.68% Test: 69.66%\n",
            "Epoch: 230, Loss: 1.0201, Train: 72.48%, Valid: 71.01% Test: 69.98%\n",
            "Epoch: 240, Loss: 1.0139, Train: 72.67%, Valid: 70.91% Test: 69.88%\n",
            "Epoch: 250, Loss: 1.0048, Train: 72.74%, Valid: 71.03% Test: 70.10%\n",
            "Epoch: 260, Loss: 1.0018, Train: 72.94%, Valid: 71.13% Test: 70.17%\n",
            "Epoch: 270, Loss: 0.9970, Train: 73.13%, Valid: 71.09% Test: 70.03%\n",
            "Epoch: 280, Loss: 0.9944, Train: 73.18%, Valid: 71.13% Test: 70.09%\n",
            "Epoch: 290, Loss: 0.9893, Train: 73.33%, Valid: 71.20% Test: 70.27%\n",
            "Epoch: 300, Loss: 0.9838, Train: 73.42%, Valid: 71.32% Test: 70.56%\n",
            "Epoch: 310, Loss: 0.9792, Train: 73.58%, Valid: 71.40% Test: 70.66%\n",
            "Epoch: 320, Loss: 0.9730, Train: 73.58%, Valid: 71.53% Test: 70.92%\n",
            "Epoch: 330, Loss: 0.9693, Train: 73.78%, Valid: 71.31% Test: 70.26%\n",
            "Epoch: 340, Loss: 0.9640, Train: 73.81%, Valid: 71.32% Test: 70.56%\n",
            "Epoch: 350, Loss: 0.9603, Train: 73.98%, Valid: 71.46% Test: 70.58%\n",
            "Epoch: 360, Loss: 0.9597, Train: 74.11%, Valid: 71.48% Test: 70.50%\n",
            "Epoch: 370, Loss: 0.9544, Train: 74.27%, Valid: 71.48% Test: 70.59%\n",
            "Epoch: 380, Loss: 0.9528, Train: 74.15%, Valid: 71.58% Test: 70.97%\n",
            "Epoch: 390, Loss: 0.9497, Train: 74.36%, Valid: 71.47% Test: 70.55%\n",
            "Epoch: 400, Loss: 0.9408, Train: 74.59%, Valid: 71.59% Test: 70.62%\n",
            "Epoch: 410, Loss: 0.9406, Train: 74.62%, Valid: 71.48% Test: 70.34%\n",
            "Epoch: 420, Loss: 0.9332, Train: 74.73%, Valid: 71.54% Test: 70.78%\n",
            "Epoch: 430, Loss: 0.9334, Train: 74.81%, Valid: 71.49% Test: 70.17%\n",
            "Epoch: 440, Loss: 0.9307, Train: 74.87%, Valid: 71.68% Test: 70.53%\n",
            "Epoch: 450, Loss: 0.9300, Train: 74.88%, Valid: 71.05% Test: 69.74%\n",
            "Epoch: 460, Loss: 0.9266, Train: 75.11%, Valid: 71.64% Test: 70.67%\n",
            "Epoch: 470, Loss: 0.9214, Train: 75.18%, Valid: 71.64% Test: 70.47%\n",
            "Epoch: 480, Loss: 0.9182, Train: 75.26%, Valid: 71.57% Test: 70.44%\n",
            "Epoch: 490, Loss: 0.9174, Train: 75.38%, Valid: 71.54% Test: 70.27%\n",
            "Epoch: 500, Loss: 0.9143, Train: 75.37%, Valid: 71.95% Test: 71.10%\n"
          ]
        }
      ]
    },
    {
      "cell_type": "markdown",
      "source": [
        "#5. Testing and Visualization"
      ],
      "metadata": {
        "id": "xMBxLtn9xZH5"
      }
    },
    {
      "cell_type": "code",
      "source": [
        "import numpy as np\n",
        "import matplotlib.pyplot as plt\n",
        "\n",
        "x = np.arange(500)\n",
        "\n",
        "# Convert each tensor in the list to a NumPy array after moving it to the CPU\n",
        "train_accs = np.array([acc.cpu().numpy() for acc in train_accs])\n",
        "val_accs = np.array([acc.cpu().numpy() for acc in val_accs])\n",
        "test_accs = np.array([acc.cpu().numpy() for acc in test_accs])\n",
        "\n",
        "plt.plot(x, train_accs, label='Train')\n",
        "plt.plot(x, val_accs, label='Val')\n",
        "plt.plot(x, test_accs, label='Test')\n",
        "\n",
        "plt.title('Train, Validation, & Test Accuracies across 500 Epochs')\n",
        "plt.xlabel('Epochs')\n",
        "plt.ylabel('Accuracy')\n",
        "plt.legend()\n",
        "plt.show()\n"
      ],
      "metadata": {
        "colab": {
          "base_uri": "https://localhost:8080/",
          "height": 472
        },
        "id": "Fxhkvwo_tZui",
        "outputId": "9964ebb8-1447-4988-b1a0-6a826a9e9570"
      },
      "execution_count": null,
      "outputs": [
        {
          "output_type": "display_data",
          "data": {
            "text/plain": [
              "<Figure size 640x480 with 1 Axes>"
            ],
            "image/png": "[encoded data removed]"
          },
          "metadata": {}
        }
      ]
    },
    {
      "cell_type": "code",
      "source": [],
      "metadata": {
        "id": "ZjY5Zsq6ta1-"
      },
      "execution_count": null,
      "outputs": []
    },
    {
      "cell_type": "code",
      "source": [],
      "metadata": {
        "id": "YV4CvWBctazn"
      },
      "execution_count": null,
      "outputs": []
    },
    {
      "cell_type": "code",
      "source": [],
      "metadata": {
        "id": "f-xI59QbtaxE"
      },
      "execution_count": null,
      "outputs": []
    },
    {
      "cell_type": "code",
      "source": [],
      "metadata": {
        "id": "m6NSqTcztau2"
      },
      "execution_count": null,
      "outputs": []
    },
    {
      "cell_type": "code",
      "source": [],
      "metadata": {
        "id": "4TRZyxVztasU"
      },
      "execution_count": null,
      "outputs": []
    },
    {
      "cell_type": "code",
      "source": [],
      "metadata": {
        "id": "ubEXZgqLtapp"
      },
      "execution_count": null,
      "outputs": []
    },
    {
      "cell_type": "code",
      "source": [],
      "metadata": {
        "id": "i_44f-bftanR"
      },
      "execution_count": null,
      "outputs": []
    },
    {
      "cell_type": "code",
      "source": [],
      "metadata": {
        "id": "6RHu_AIBtakl"
      },
      "execution_count": null,
      "outputs": []
    },
    {
      "cell_type": "code",
      "source": [],
      "metadata": {
        "id": "Gr1kNHMdtaiX"
      },
      "execution_count": null,
      "outputs": []
    },
    {
      "cell_type": "code",
      "source": [],
      "metadata": {
        "id": "iYJj8GJ7tZsf"
      },
      "execution_count": null,
      "outputs": []
    }
  ]
}