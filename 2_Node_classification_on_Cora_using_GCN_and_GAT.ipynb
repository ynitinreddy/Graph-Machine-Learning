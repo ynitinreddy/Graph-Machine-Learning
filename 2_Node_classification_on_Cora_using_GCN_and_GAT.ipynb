{
  "nbformat": 4,
  "nbformat_minor": 0,
  "metadata": {
    "colab": {
      "provenance": []
    },
    "kernelspec": {
      "name": "python3",
      "display_name": "Python 3"
    },
    "language_info": {
      "name": "python"
    }
  },
  "cells": [
    {
      "cell_type": "code",
      "execution_count": null,
      "metadata": {
        "id": "1T4N2kPZpn--"
      },
      "outputs": [],
      "source": [
        "import torch"
      ]
    },
    {
      "cell_type": "code",
      "source": [
        "%pip install torch_geometric"
      ],
      "metadata": {
        "colab": {
          "base_uri": "https://localhost:8080/"
        },
        "id": "kLyz1pWipq_m",
        "outputId": "38a0b161-75f8-4c64-c1d3-fbe90ea26fd6"
      },
      "execution_count": null,
      "outputs": [
        {
          "output_type": "stream",
          "name": "stdout",
          "text": [
            "Requirement already satisfied: torch_geometric in /usr/local/lib/python3.10/dist-packages (2.6.1)\n",
            "Requirement already satisfied: aiohttp in /usr/local/lib/python3.10/dist-packages (from torch_geometric) (3.10.8)\n",
            "Requirement already satisfied: fsspec in /usr/local/lib/python3.10/dist-packages (from torch_geometric) (2024.6.1)\n",
            "Requirement already satisfied: jinja2 in /usr/local/lib/python3.10/dist-packages (from torch_geometric) (3.1.4)\n",
            "Requirement already satisfied: numpy in /usr/local/lib/python3.10/dist-packages (from torch_geometric) (1.26.4)\n",
            "Requirement already satisfied: psutil>=5.8.0 in /usr/local/lib/python3.10/dist-packages (from torch_geometric) (5.9.5)\n",
            "Requirement already satisfied: pyparsing in /usr/local/lib/python3.10/dist-packages (from torch_geometric) (3.1.4)\n",
            "Requirement already satisfied: requests in /usr/local/lib/python3.10/dist-packages (from torch_geometric) (2.32.3)\n",
            "Requirement already satisfied: tqdm in /usr/local/lib/python3.10/dist-packages (from torch_geometric) (4.66.5)\n",
            "Requirement already satisfied: aiohappyeyeballs>=2.3.0 in /usr/local/lib/python3.10/dist-packages (from aiohttp->torch_geometric) (2.4.3)\n",
            "Requirement already satisfied: aiosignal>=1.1.2 in /usr/local/lib/python3.10/dist-packages (from aiohttp->torch_geometric) (1.3.1)\n",
            "Requirement already satisfied: attrs>=17.3.0 in /usr/local/lib/python3.10/dist-packages (from aiohttp->torch_geometric) (24.2.0)\n",
            "Requirement already satisfied: frozenlist>=1.1.1 in /usr/local/lib/python3.10/dist-packages (from aiohttp->torch_geometric) (1.4.1)\n",
            "Requirement already satisfied: multidict<7.0,>=4.5 in /usr/local/lib/python3.10/dist-packages (from aiohttp->torch_geometric) (6.1.0)\n",
            "Requirement already satisfied: yarl<2.0,>=1.12.0 in /usr/local/lib/python3.10/dist-packages (from aiohttp->torch_geometric) (1.13.1)\n",
            "Requirement already satisfied: async-timeout<5.0,>=4.0 in /usr/local/lib/python3.10/dist-packages (from aiohttp->torch_geometric) (4.0.3)\n",
            "Requirement already satisfied: MarkupSafe>=2.0 in /usr/local/lib/python3.10/dist-packages (from jinja2->torch_geometric) (2.1.5)\n",
            "Requirement already satisfied: charset-normalizer<4,>=2 in /usr/local/lib/python3.10/dist-packages (from requests->torch_geometric) (3.3.2)\n",
            "Requirement already satisfied: idna<4,>=2.5 in /usr/local/lib/python3.10/dist-packages (from requests->torch_geometric) (3.10)\n",
            "Requirement already satisfied: urllib3<3,>=1.21.1 in /usr/local/lib/python3.10/dist-packages (from requests->torch_geometric) (2.2.3)\n",
            "Requirement already satisfied: certifi>=2017.4.17 in /usr/local/lib/python3.10/dist-packages (from requests->torch_geometric) (2024.8.30)\n",
            "Requirement already satisfied: typing-extensions>=4.1.0 in /usr/local/lib/python3.10/dist-packages (from multidict<7.0,>=4.5->aiohttp->torch_geometric) (4.12.2)\n"
          ]
        }
      ]
    },
    {
      "cell_type": "code",
      "source": [
        "import torch_geometric"
      ],
      "metadata": {
        "id": "p5PQ8Ew0p37B"
      },
      "execution_count": null,
      "outputs": []
    },
    {
      "cell_type": "code",
      "source": [
        "from torch_geometric.datasets import Planetoid\n",
        "from torch_geometric.transforms import NormalizeFeatures"
      ],
      "metadata": {
        "id": "GNdfIwnrp67x"
      },
      "execution_count": null,
      "outputs": []
    },
    {
      "cell_type": "markdown",
      "source": [
        "#1. Dataset"
      ],
      "metadata": {
        "id": "RhT7z2JFr3WI"
      }
    },
    {
      "cell_type": "code",
      "source": [
        "cora_dataset = Planetoid(root='./cora', name='cora', transform=NormalizeFeatures())\n",
        "cora_dataset"
      ],
      "metadata": {
        "colab": {
          "base_uri": "https://localhost:8080/"
        },
        "id": "n2dC8P-Kqglw",
        "outputId": "45d7848d-9531-41bf-dba6-2a6679f3d4dc"
      },
      "execution_count": null,
      "outputs": [
        {
          "output_type": "execute_result",
          "data": {
            "text/plain": [
              "cora()"
            ]
          },
          "metadata": {},
          "execution_count": 24
        }
      ]
    },
    {
      "cell_type": "code",
      "source": [
        "print(f'No. of graphs: {len(cora_dataset)}')\n",
        "print(f'No. of node features: {cora_dataset.num_node_features}')\n",
        "print(f\"No. of classes: {cora_dataset.num_classes}\")"
      ],
      "metadata": {
        "colab": {
          "base_uri": "https://localhost:8080/"
        },
        "id": "6nKvWn8Uqt11",
        "outputId": "9c12aebe-c68b-4df0-b39a-ce312753a9ab"
      },
      "execution_count": null,
      "outputs": [
        {
          "output_type": "stream",
          "name": "stdout",
          "text": [
            "No. of graphs: 1\n",
            "No. of node features: 1433\n",
            "No. of classes: 7\n"
          ]
        }
      ]
    },
    {
      "cell_type": "code",
      "source": [
        "cora_data = cora_dataset[0]\n",
        "cora_data"
      ],
      "metadata": {
        "colab": {
          "base_uri": "https://localhost:8080/"
        },
        "id": "TudjfSgjqxi9",
        "outputId": "e2c02bb5-a20b-4d09-805c-ddb27825a81e"
      },
      "execution_count": null,
      "outputs": [
        {
          "output_type": "execute_result",
          "data": {
            "text/plain": [
              "Data(x=[2708, 1433], edge_index=[2, 10556], y=[2708], train_mask=[2708], val_mask=[2708], test_mask=[2708])"
            ]
          },
          "metadata": {},
          "execution_count": 26
        }
      ]
    },
    {
      "cell_type": "code",
      "source": [
        "print(f'No. of training nodes: {cora_data.train_mask.sum().item()}')\n",
        "print(f'No. of validation nodes: {cora_data.val_mask.sum().item()}')\n",
        "print(f'No. of test nodes: {cora_data.test_mask.sum().item()}')"
      ],
      "metadata": {
        "colab": {
          "base_uri": "https://localhost:8080/"
        },
        "id": "Uu944fRhrNV9",
        "outputId": "5a1c6d97-e184-4bfd-b6be-29bdfb398048"
      },
      "execution_count": null,
      "outputs": [
        {
          "output_type": "stream",
          "name": "stdout",
          "text": [
            "No. of training nodes: 140\n",
            "No. of validation nodes: 500\n",
            "No. of test nodes: 1000\n"
          ]
        }
      ]
    },
    {
      "cell_type": "code",
      "source": [
        "print(f\"No. of nodes: {cora_data.num_nodes}\")\n",
        "print(f\"No. of edges: {cora_data.num_edges}\")\n",
        "print(f\"Average node degree: {(cora_data.num_edges/cora_data.num_nodes):.2f}\")\n",
        "print(f\"Has isolated nodes? {cora_data.has_isolated_nodes()}\")\n",
        "print(f\"Has self-loops? {cora_data.has_self_loops()}\")\n",
        "print(f\"Is undirected? {cora_data.is_undirected()}\")"
      ],
      "metadata": {
        "colab": {
          "base_uri": "https://localhost:8080/"
        },
        "id": "h-Zz_t-etKHN",
        "outputId": "e1ddd07a-a324-4b80-ad75-597f7500e4b9"
      },
      "execution_count": null,
      "outputs": [
        {
          "output_type": "stream",
          "name": "stdout",
          "text": [
            "No. of nodes: 2708\n",
            "No. of edges: 10556\n",
            "Average node degree: 3.90\n",
            "Has isolated nodes? False\n",
            "Has self-loops? False\n",
            "Is undirected? True\n"
          ]
        }
      ]
    },
    {
      "cell_type": "markdown",
      "source": [
        "#2. Building the GCN model"
      ],
      "metadata": {
        "id": "iELQ2ex-rpfW"
      }
    },
    {
      "cell_type": "code",
      "source": [
        "import torch.nn as nn\n",
        "import torch.nn.functional as F\n",
        "from torch_geometric.nn import GCNConv\n",
        "\n",
        "class GCN(torch.nn.Module):\n",
        "  def __init__(self, in_channels, out_channels, hidden_channels=16):\n",
        "    torch.manual_seed(123)\n",
        "\n",
        "    super().__init__()\n",
        "\n",
        "    self.conv1 = GCNConv(in_channels=in_channels, out_channels=hidden_channels)\n",
        "    self.conv2 = GCNConv(in_channels=hidden_channels, out_channels=out_channels)\n",
        "\n",
        "  def forward(self, data):\n",
        "    x, edge_index = data.x, data.edge_index\n",
        "\n",
        "    x = self.conv1(x, edge_index)\n",
        "    x = F.relu(x)\n",
        "    x = F.dropout(x, p=0.5, training=self.training)\n",
        "\n",
        "    x= self.conv2(x, edge_index)\n",
        "\n",
        "    return x"
      ],
      "metadata": {
        "id": "MUAAS1wXrzs6"
      },
      "execution_count": null,
      "outputs": []
    },
    {
      "cell_type": "code",
      "source": [
        "device = 'cuda' if torch.cuda.is_available() else 'cpu'\n",
        "device"
      ],
      "metadata": {
        "colab": {
          "base_uri": "https://localhost:8080/",
          "height": 36
        },
        "id": "2wlgtSyHxSVz",
        "outputId": "ebcf0385-b99f-4639-cad3-91dc5e523925"
      },
      "execution_count": null,
      "outputs": [
        {
          "output_type": "execute_result",
          "data": {
            "text/plain": [
              "'cpu'"
            ],
            "application/vnd.google.colaboratory.intrinsic+json": {
              "type": "string"
            }
          },
          "metadata": {},
          "execution_count": 46
        }
      ]
    },
    {
      "cell_type": "code",
      "source": [
        "cora_data.to(device)\n",
        "model = GCN(in_channels = cora_data.num_features,\n",
        "            out_channels = cora_dataset.num_classes).to(device)\n",
        "optimizer = torch.optim.Adam(params=model.parameters(), lr=0.01, weight_decay=5e-4)\n",
        "criterion = nn.CrossEntropyLoss()"
      ],
      "metadata": {
        "id": "6IZHy6BXxOjm"
      },
      "execution_count": null,
      "outputs": []
    },
    {
      "cell_type": "code",
      "source": [
        "print(f\"No. of parameters: {sum(p.numel() for p in model.parameters())}\")"
      ],
      "metadata": {
        "colab": {
          "base_uri": "https://localhost:8080/"
        },
        "id": "8XklnKQdxn_H",
        "outputId": "1e9dc107-5b73-496b-9cbd-5f399d88889f"
      },
      "execution_count": null,
      "outputs": [
        {
          "output_type": "stream",
          "name": "stdout",
          "text": [
            "No. of parameters: 23063\n"
          ]
        }
      ]
    },
    {
      "cell_type": "code",
      "source": [
        "epochs = 200\n",
        "\n",
        "cora_data = cora_dataset[0].to(device)\n",
        "\n",
        "for epoch in range(epochs):\n",
        "  model.train()\n",
        "  optimizer.zero_grad()\n",
        "  out = model(cora_data)\n",
        "  loss = criterion(out[cora_data.train_mask], cora_data.y[cora_data.train_mask])\n",
        "  loss.backward()\n",
        "  optimizer.step()\n",
        "\n",
        "  pred_train = out.argmax(dim=1)\n",
        "  correct_train = (pred_train[cora_data.train_mask] == cora_data.y[cora_data.train_mask]).sum()\n",
        "  train_acc = int(correct_train) / int(cora_data.train_mask.sum())\n",
        "\n",
        "  if (epoch+1)%10 == 0:\n",
        "    print(f\"Epoch: {epoch+1}, train loss: {loss:.3f}, Train Acc: {train_acc:.3f}\")"
      ],
      "metadata": {
        "colab": {
          "base_uri": "https://localhost:8080/"
        },
        "id": "kgtkrAvI3JZP",
        "outputId": "d650ad33-f9ad-45f8-f5f3-e58f7ee63999"
      },
      "execution_count": null,
      "outputs": [
        {
          "output_type": "stream",
          "name": "stdout",
          "text": [
            "Epoch: 10, train loss: 1.861, Train Acc: 0.743\n",
            "Epoch: 20, train loss: 1.714, Train Acc: 0.764\n",
            "Epoch: 30, train loss: 1.523, Train Acc: 0.836\n",
            "Epoch: 40, train loss: 1.335, Train Acc: 0.850\n",
            "Epoch: 50, train loss: 1.125, Train Acc: 0.900\n",
            "Epoch: 60, train loss: 0.873, Train Acc: 0.957\n",
            "Epoch: 70, train loss: 0.796, Train Acc: 0.929\n",
            "Epoch: 80, train loss: 0.680, Train Acc: 0.936\n",
            "Epoch: 90, train loss: 0.621, Train Acc: 0.943\n",
            "Epoch: 100, train loss: 0.553, Train Acc: 0.936\n",
            "Epoch: 110, train loss: 0.502, Train Acc: 0.950\n",
            "Epoch: 120, train loss: 0.494, Train Acc: 0.950\n",
            "Epoch: 130, train loss: 0.455, Train Acc: 0.936\n",
            "Epoch: 140, train loss: 0.404, Train Acc: 0.957\n",
            "Epoch: 150, train loss: 0.411, Train Acc: 0.979\n",
            "Epoch: 160, train loss: 0.383, Train Acc: 0.986\n",
            "Epoch: 170, train loss: 0.342, Train Acc: 0.986\n",
            "Epoch: 180, train loss: 0.371, Train Acc: 0.971\n",
            "Epoch: 190, train loss: 0.332, Train Acc: 0.979\n",
            "Epoch: 200, train loss: 0.325, Train Acc: 0.979\n"
          ]
        }
      ]
    },
    {
      "cell_type": "code",
      "source": [
        "model.eval()\n",
        "\n",
        "with torch.inference_mode():\n",
        "  val_preds = model(cora_data).argmax(dim=1)\n",
        "  val_correct = (val_preds[cora_data.val_mask] == cora_data.y[cora_data.val_mask]).sum()\n",
        "  val_acc = int(val_correct) / int(cora_data.val_mask.sum())\n",
        "  print(f\"Val Accuracy: {val_acc:.3f}\")"
      ],
      "metadata": {
        "colab": {
          "base_uri": "https://localhost:8080/"
        },
        "id": "O6cyYD8z_YPT",
        "outputId": "49dfd170-e396-4ea9-e1bc-12c6c3137456"
      },
      "execution_count": null,
      "outputs": [
        {
          "output_type": "stream",
          "name": "stdout",
          "text": [
            "Val Accuracy: 0.794\n"
          ]
        }
      ]
    },
    {
      "cell_type": "code",
      "source": [
        "model.eval()\n",
        "\n",
        "with torch.inference_mode():\n",
        "  test_preds = model(cora_data).argmax(dim=1)\n",
        "  test_correct = (test_preds[cora_data.test_mask] == cora_data.y[cora_data.test_mask]).sum()\n",
        "  test_acc = int(test_correct) / int(cora_data.test_mask.sum())\n",
        "  print(f\"Test Accuracy: {test_acc:.3f}\")"
      ],
      "metadata": {
        "colab": {
          "base_uri": "https://localhost:8080/"
        },
        "id": "263HbHW86dC5",
        "outputId": "39bf69f2-7bb8-46d2-93c8-318e02beff7a"
      },
      "execution_count": null,
      "outputs": [
        {
          "output_type": "stream",
          "name": "stdout",
          "text": [
            "Test Accuracy: 0.801\n"
          ]
        }
      ]
    },
    {
      "cell_type": "code",
      "source": [
        "cora_data.to(device)\n",
        "model = GCN(in_channels = cora_data.num_features,\n",
        "            out_channels = cora_dataset.num_classes).to(device)\n",
        "optimizer = torch.optim.Adam(params=model.parameters(), lr=0.01, weight_decay=5e-4)\n",
        "criterion = nn.CrossEntropyLoss()"
      ],
      "metadata": {
        "id": "LydhoBO__V7-"
      },
      "execution_count": null,
      "outputs": []
    },
    {
      "cell_type": "code",
      "source": [
        "%%time\n",
        "import copy\n",
        "\n",
        "epochs = 200\n",
        "\n",
        "cora_data = cora_dataset[0].to(device)\n",
        "best_val_acc, best_model_state = 0.0, None\n",
        "\n",
        "for epoch in range(epochs):\n",
        "  model.train()\n",
        "  optimizer.zero_grad()\n",
        "  out = model(cora_data)\n",
        "  loss = criterion(out[cora_data.train_mask], cora_data.y[cora_data.train_mask])\n",
        "  loss.backward()\n",
        "  optimizer.step()\n",
        "\n",
        "  pred_train = out.argmax(dim=1)\n",
        "  correct_train = (pred_train[cora_data.train_mask] == cora_data.y[cora_data.train_mask]).sum()\n",
        "  train_acc = int(correct_train) / int(cora_data.train_mask.sum())\n",
        "\n",
        "  model.eval()\n",
        "\n",
        "  with torch.inference_mode():\n",
        "    val_preds = model(cora_data).argmax(dim=1)\n",
        "    val_correct = (val_preds[cora_data.val_mask] == cora_data.y[cora_data.val_mask]).sum()\n",
        "    val_acc = int(val_correct) / int(cora_data.val_mask.sum())\n",
        "\n",
        "    if val_acc > best_val_acc:\n",
        "      best_val_acc = val_acc\n",
        "      best_model_state = copy.deepcopy(model.state_dict())\n",
        "\n",
        "    if (epoch+1)%10 == 0:\n",
        "      print(f\"Epoch: {epoch+1}, train loss: {loss:.3f}, Train Acc: {train_acc:.3f}, Val Acc: {best_val_acc:.3f}\")"
      ],
      "metadata": {
        "colab": {
          "base_uri": "https://localhost:8080/"
        },
        "id": "eMsjMiHJAzWk",
        "outputId": "d72574ab-5bc9-4bf9-cd99-c7aeef21e8b4"
      },
      "execution_count": null,
      "outputs": [
        {
          "output_type": "stream",
          "name": "stdout",
          "text": [
            "Epoch: 10, train loss: 1.861, Train Acc: 0.743, Val Acc: 0.610\n",
            "Epoch: 20, train loss: 1.714, Train Acc: 0.764, Val Acc: 0.680\n",
            "Epoch: 30, train loss: 1.523, Train Acc: 0.836, Val Acc: 0.706\n",
            "Epoch: 40, train loss: 1.335, Train Acc: 0.850, Val Acc: 0.744\n",
            "Epoch: 50, train loss: 1.125, Train Acc: 0.900, Val Acc: 0.774\n",
            "Epoch: 60, train loss: 0.873, Train Acc: 0.957, Val Acc: 0.788\n",
            "Epoch: 70, train loss: 0.796, Train Acc: 0.929, Val Acc: 0.802\n",
            "Epoch: 80, train loss: 0.680, Train Acc: 0.936, Val Acc: 0.802\n",
            "Epoch: 90, train loss: 0.621, Train Acc: 0.943, Val Acc: 0.802\n",
            "Epoch: 100, train loss: 0.553, Train Acc: 0.936, Val Acc: 0.802\n",
            "Epoch: 110, train loss: 0.502, Train Acc: 0.950, Val Acc: 0.802\n",
            "Epoch: 120, train loss: 0.494, Train Acc: 0.950, Val Acc: 0.802\n",
            "Epoch: 130, train loss: 0.455, Train Acc: 0.936, Val Acc: 0.802\n",
            "Epoch: 140, train loss: 0.404, Train Acc: 0.957, Val Acc: 0.802\n",
            "Epoch: 150, train loss: 0.411, Train Acc: 0.979, Val Acc: 0.802\n",
            "Epoch: 160, train loss: 0.383, Train Acc: 0.986, Val Acc: 0.802\n",
            "Epoch: 170, train loss: 0.342, Train Acc: 0.986, Val Acc: 0.802\n",
            "Epoch: 180, train loss: 0.371, Train Acc: 0.971, Val Acc: 0.802\n",
            "Epoch: 190, train loss: 0.332, Train Acc: 0.979, Val Acc: 0.802\n",
            "Epoch: 200, train loss: 0.325, Train Acc: 0.979, Val Acc: 0.802\n",
            "CPU times: user 5.63 s, sys: 10.9 ms, total: 5.64 s\n",
            "Wall time: 5.6 s\n"
          ]
        }
      ]
    },
    {
      "cell_type": "code",
      "source": [
        "print(\"Best validation accuracy:\", best_val_acc)\n",
        "model.load_state_dict(best_model_state)"
      ],
      "metadata": {
        "colab": {
          "base_uri": "https://localhost:8080/"
        },
        "id": "a45n0ZcdBHaE",
        "outputId": "db9cf7e6-a97b-4264-b701-ffdccb8d8d8a"
      },
      "execution_count": null,
      "outputs": [
        {
          "output_type": "stream",
          "name": "stdout",
          "text": [
            "Best validation accuracy: 0.802\n"
          ]
        },
        {
          "output_type": "execute_result",
          "data": {
            "text/plain": [
              "<All keys matched successfully>"
            ]
          },
          "metadata": {},
          "execution_count": 61
        }
      ]
    },
    {
      "cell_type": "code",
      "source": [
        "model.eval()\n",
        "\n",
        "with torch.inference_mode():\n",
        "  test_preds = model(cora_data).argmax(dim=1)\n",
        "  test_correct = (test_preds[cora_data.test_mask] == cora_data.y[cora_data.test_mask]).sum()\n",
        "  test_acc = int(test_correct) / int(cora_data.test_mask.sum())\n",
        "  print(f\"Test Accuracy: {test_acc:.4f}\")"
      ],
      "metadata": {
        "colab": {
          "base_uri": "https://localhost:8080/"
        },
        "id": "tx3LQ77zCKDM",
        "outputId": "8cd6b453-e7ed-45af-a638-7f0b93cda593"
      },
      "execution_count": null,
      "outputs": [
        {
          "output_type": "stream",
          "name": "stdout",
          "text": [
            "Test Accuracy: 0.8070\n"
          ]
        }
      ]
    },
    {
      "cell_type": "code",
      "source": [],
      "metadata": {
        "id": "0OozPRHnCMoA"
      },
      "execution_count": null,
      "outputs": []
    }
  ]
}